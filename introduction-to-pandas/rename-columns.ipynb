{
 "cells": [
  {
   "cell_type": "markdown",
   "metadata": {},
   "source": [
    "DataFrame students\n",
    "+-------------+--------+\n",
    "| Column Name | Type   |\n",
    "+-------------+--------+\n",
    "| id          | int    |\n",
    "| first       | object |\n",
    "| last        | object |\n",
    "| age         | int    |\n",
    "+-------------+--------+\n",
    "Write a solution to rename the columns as follows:\n",
    "\n",
    "id to student_id\n",
    "first to first_name\n",
    "last to last_name\n",
    "age to age_in_years\n",
    "The result format is in the following example.\n",
    "\n",
    " \n",
    "\n",
    "Example 1:\n",
    "Input:\n",
    "+----+---------+----------+-----+\n",
    "| id | first   | last     | age |\n",
    "+----+---------+----------+-----+\n",
    "| 1  | Mason   | King     | 6   |\n",
    "| 2  | Ava     | Wright   | 7   |\n",
    "| 3  | Taylor  | Hall     | 16  |\n",
    "| 4  | Georgia | Thompson | 18  |\n",
    "| 5  | Thomas  | Moore    | 10  |\n",
    "+----+---------+----------+-----+\n",
    "Output:\n",
    "+------------+------------+-----------+--------------+\n",
    "| student_id | first_name | last_name | age_in_years |\n",
    "+------------+------------+-----------+--------------+\n",
    "| 1          | Mason      | King      | 6            |\n",
    "| 2          | Ava        | Wright    | 7            |\n",
    "| 3          | Taylor     | Hall      | 16           |\n",
    "| 4          | Georgia    | Thompson  | 18           |\n",
    "| 5          | Thomas     | Moore     | 10           |\n",
    "+------------+------------+-----------+--------------+\n",
    "Explanation: \n",
    "The column names are changed accordingly."
   ]
  },
  {
   "cell_type": "code",
   "execution_count": null,
   "metadata": {},
   "outputs": [],
   "source": [
    "import pandas as pd\n",
    "\n",
    "def renameColumns(students: pd.DataFrame) -> pd.DataFrame:\n",
    "    students.rename(columns={'id': 'student_id', 'first': 'first_name', 'last': 'last_name', 'age': 'age_in_years'}, inplace=True)\n",
    "    return students"
   ]
  },
  {
   "cell_type": "code",
   "execution_count": null,
   "metadata": {},
   "outputs": [],
   "source": []
  }
 ],
 "metadata": {
  "language_info": {
   "name": "python"
  }
 },
 "nbformat": 4,
 "nbformat_minor": 2
}
