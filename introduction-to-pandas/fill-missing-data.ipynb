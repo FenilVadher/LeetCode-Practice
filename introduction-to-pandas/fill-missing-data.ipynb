{
 "cells": [
  {
   "cell_type": "markdown",
   "metadata": {},
   "source": [
    "DataFrame products\n",
    "+-------------+--------+\n",
    "| Column Name | Type   |\n",
    "+-------------+--------+\n",
    "| name        | object |\n",
    "| quantity    | int    |\n",
    "| price       | int    |\n",
    "+-------------+--------+\n",
    "Write a solution to fill in the missing value as 0 in the quantity column.\n",
    "\n",
    "The result format is in the following example.\n",
    "\n",
    " \n",
    "\n",
    "Example 1:\n",
    "Input:+-----------------+----------+-------+\n",
    "| name            | quantity | price |\n",
    "+-----------------+----------+-------+\n",
    "| Wristwatch      | None     | 135   |\n",
    "| WirelessEarbuds | None     | 821   |\n",
    "| GolfClubs       | 779      | 9319  |\n",
    "| Printer         | 849      | 3051  |\n",
    "+-----------------+----------+-------+\n",
    "Output:\n",
    "+-----------------+----------+-------+\n",
    "| name            | quantity | price |\n",
    "+-----------------+----------+-------+\n",
    "| Wristwatch      | 0        | 135   |\n",
    "| WirelessEarbuds | 0        | 821   |\n",
    "| GolfClubs       | 779      | 9319  |\n",
    "| Printer         | 849      | 3051  |\n",
    "+-----------------+----------+-------+\n",
    "Explanation: \n",
    "The quantity for Wristwatch and WirelessEarbuds are filled by 0.\n"
   ]
  },
  {
   "cell_type": "code",
   "execution_count": null,
   "metadata": {},
   "outputs": [],
   "source": [
    "import pandas as pd\n",
    "\n",
    "def fillMissingValues(products: pd.DataFrame) -> pd.DataFrame:\n",
    "    products[\"quantity\"].fillna(0, inplace=True)\n",
    "    return products"
   ]
  },
  {
   "cell_type": "code",
   "execution_count": null,
   "metadata": {},
   "outputs": [],
   "source": []
  }
 ],
 "metadata": {
  "language_info": {
   "name": "python"
  }
 },
 "nbformat": 4,
 "nbformat_minor": 2
}
