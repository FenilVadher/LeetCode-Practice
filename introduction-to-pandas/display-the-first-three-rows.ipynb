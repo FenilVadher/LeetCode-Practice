{
 "cells": [
  {
   "cell_type": "markdown",
   "metadata": {},
   "source": [
    "DataFrame: employees\n",
    "+-------------+--------+\n",
    "| Column Name | Type   |\n",
    "+-------------+--------+\n",
    "| employee_id | int    |\n",
    "| name        | object |\n",
    "| department  | object |\n",
    "| salary      | int    |\n",
    "+-------------+--------+\n",
    "Write a solution to display the first 3 rows of this DataFrame.\n",
    "\n",
    " \n",
    "\n",
    "Example 1:\n",
    "\n",
    "Input:\n",
    "DataFrame employees\n",
    "+-------------+-----------+-----------------------+--------+\n",
    "| employee_id | name      | department            | salary |\n",
    "+-------------+-----------+-----------------------+--------+\n",
    "| 3           | Bob       | Operations            | 48675  |\n",
    "| 90          | Alice     | Sales                 | 11096  |\n",
    "| 9           | Tatiana   | Engineering           | 33805  |\n",
    "| 60          | Annabelle | InformationTechnology | 37678  |\n",
    "| 49          | Jonathan  | HumanResources        | 23793  |\n",
    "| 43          | Khaled    | Administration        | 40454  |\n",
    "+-------------+-----------+-----------------------+--------+\n",
    "Output:\n",
    "+-------------+---------+-------------+--------+\n",
    "| employee_id | name    | department  | salary |\n",
    "+-------------+---------+-------------+--------+\n",
    "| 3           | Bob     | Operations  | 48675  |\n",
    "| 90          | Alice   | Sales       | 11096  |\n",
    "| 9           | Tatiana | Engineering | 33805  |\n",
    "+-------------+---------+-------------+--------+\n",
    "Explanation: \n",
    "Only the first 3 rows are displayed."
   ]
  },
  {
   "cell_type": "code",
   "execution_count": null,
   "metadata": {},
   "outputs": [],
   "source": [
    "import pandas as pd\n",
    "\n",
    "def selectFirstRows(employees: pd.DataFrame) -> pd.DataFrame:\n",
    "    return employees.head(3)"
   ]
  },
  {
   "cell_type": "code",
   "execution_count": null,
   "metadata": {},
   "outputs": [],
   "source": []
  }
 ],
 "metadata": {
  "language_info": {
   "name": "python"
  }
 },
 "nbformat": 4,
 "nbformat_minor": 2
}
