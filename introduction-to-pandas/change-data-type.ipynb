{
 "cells": [
  {
   "cell_type": "markdown",
   "metadata": {},
   "source": [
    "DataFrame students\n",
    "+-------------+--------+\n",
    "| Column Name | Type   |\n",
    "+-------------+--------+\n",
    "| student_id  | int    |\n",
    "| name        | object |\n",
    "| age         | int    |\n",
    "| grade       | float  |\n",
    "+-------------+--------+\n",
    "Write a solution to correct the errors:\n",
    "\n",
    "The grade column is stored as floats, convert it to integers.\n",
    "\n",
    "The result format is in the following example.\n",
    "\n",
    " \n",
    "\n",
    "Example 1:\n",
    "Input:\n",
    "DataFrame students:\n",
    "+------------+------+-----+-------+\n",
    "| student_id | name | age | grade |\n",
    "+------------+------+-----+-------+\n",
    "| 1          | Ava  | 6   | 73.0  |\n",
    "| 2          | Kate | 15  | 87.0  |\n",
    "+------------+------+-----+-------+\n",
    "Output:\n",
    "+------------+------+-----+-------+\n",
    "| student_id | name | age | grade |\n",
    "+------------+------+-----+-------+\n",
    "| 1          | Ava  | 6   | 73    |\n",
    "| 2          | Kate | 15  | 87    |\n",
    "+------------+------+-----+-------+\n",
    "Explanation: \n",
    "The data types of the column grade is converted to int."
   ]
  },
  {
   "cell_type": "code",
   "execution_count": null,
   "metadata": {},
   "outputs": [],
   "source": [
    "import pandas as pd\n",
    "\n",
    "def changeDatatype(students: pd.DataFrame) -> pd.DataFrame:\n",
    "    df = pd.DataFrame(students)\n",
    "    df['grade'] = df['grade'].astype(int)\n",
    "    return df"
   ]
  }
 ],
 "metadata": {
  "language_info": {
   "name": "python"
  }
 },
 "nbformat": 4,
 "nbformat_minor": 2
}
