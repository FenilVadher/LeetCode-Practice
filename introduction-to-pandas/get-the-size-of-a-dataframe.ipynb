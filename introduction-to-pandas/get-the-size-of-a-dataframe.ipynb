{
 "cells": [
  {
   "cell_type": "markdown",
   "metadata": {},
   "source": [
    "DataFrame players:\n",
    "+-------------+--------+\n",
    "| Column Name | Type   |\n",
    "+-------------+--------+\n",
    "| player_id   | int    |\n",
    "| name        | object |\n",
    "| age         | int    |\n",
    "| position    | object |\n",
    "| ...         | ...    |\n",
    "+-------------+--------+\n",
    "Write a solution to calculate and display the number of rows and columns of players.\n",
    "\n",
    "Return the result as an array:\n",
    "\n",
    "[number of rows, number of columns]\n",
    "\n",
    "The result format is in the following example.\n",
    "\n",
    " \n",
    "\n",
    "Example 1:\n",
    "\n",
    "Input:\n",
    "+-----------+----------+-----+-------------+--------------------+\n",
    "| player_id | name     | age | position    | team               |\n",
    "+-----------+----------+-----+-------------+--------------------+\n",
    "| 846       | Mason    | 21  | Forward     | RealMadrid         |\n",
    "| 749       | Riley    | 30  | Winger      | Barcelona          |\n",
    "| 155       | Bob      | 28  | Striker     | ManchesterUnited   |\n",
    "| 583       | Isabella | 32  | Goalkeeper  | Liverpool          |\n",
    "| 388       | Zachary  | 24  | Midfielder  | BayernMunich       |\n",
    "| 883       | Ava      | 23  | Defender    | Chelsea            |\n",
    "| 355       | Violet   | 18  | Striker     | Juventus           |\n",
    "| 247       | Thomas   | 27  | Striker     | ParisSaint-Germain |\n",
    "| 761       | Jack     | 33  | Midfielder  | ManchesterCity     |\n",
    "| 642       | Charlie  | 36  | Center-back | Arsenal            |\n",
    "+-----------+----------+-----+-------------+--------------------+\n",
    "Output:\n",
    "[10, 5]\n",
    "Explanation:\n",
    "This DataFrame contains 10 rows and 5 columns."
   ]
  },
  {
   "cell_type": "code",
   "execution_count": null,
   "metadata": {},
   "outputs": [],
   "source": [
    "import pandas as pd\n",
    "\n",
    "def getDataframeSize(players: pd.DataFrame) -> List[int]:\n",
    "    row, col = players.shape\n",
    "    return [row, col]"
   ]
  },
  {
   "cell_type": "code",
   "execution_count": null,
   "metadata": {},
   "outputs": [],
   "source": []
  }
 ],
 "metadata": {
  "language_info": {
   "name": "python"
  }
 },
 "nbformat": 4,
 "nbformat_minor": 2
}
